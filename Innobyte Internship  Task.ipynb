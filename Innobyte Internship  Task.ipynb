{
 "cells": [
  {
   "cell_type": "markdown",
   "id": "c656f014",
   "metadata": {},
   "source": [
    "# Project Id: 78G0OL"
   ]
  },
  {
   "cell_type": "markdown",
   "id": "74980dbe",
   "metadata": {},
   "source": [
    "# Name :- Sourabh Solanki"
   ]
  },
  {
   "cell_type": "markdown",
   "id": "e4e0700c",
   "metadata": {},
   "source": [
    "# InnoByte Services\n",
    "Data Analyst Internship"
   ]
  },
  {
   "cell_type": "code",
   "execution_count": 1,
   "id": "9ca53084",
   "metadata": {},
   "outputs": [],
   "source": [
    "import pandas as pd\n",
    "import matplotlib.pyplot as plt\n",
    "import seaborn as sns"
   ]
  },
  {
   "cell_type": "code",
   "execution_count": 3,
   "id": "3d2430bf",
   "metadata": {},
   "outputs": [],
   "source": [
    "# Load the dataset\n",
    "df = pd.read_csv('Amazon Sale Report.csv', encoding='latin1')"
   ]
  },
  {
   "cell_type": "code",
   "execution_count": 9,
   "id": "ac48e620",
   "metadata": {},
   "outputs": [
    {
     "data": {
      "text/html": [
       "<div>\n",
       "<style scoped>\n",
       "    .dataframe tbody tr th:only-of-type {\n",
       "        vertical-align: middle;\n",
       "    }\n",
       "\n",
       "    .dataframe tbody tr th {\n",
       "        vertical-align: top;\n",
       "    }\n",
       "\n",
       "    .dataframe thead th {\n",
       "        text-align: right;\n",
       "    }\n",
       "</style>\n",
       "<table border=\"1\" class=\"dataframe\">\n",
       "  <thead>\n",
       "    <tr style=\"text-align: right;\">\n",
       "      <th></th>\n",
       "      <th>index</th>\n",
       "      <th>Order ID</th>\n",
       "      <th>Date</th>\n",
       "      <th>Status</th>\n",
       "      <th>Fulfilment</th>\n",
       "      <th>Sales Channel</th>\n",
       "      <th>ship-service-level</th>\n",
       "      <th>Category</th>\n",
       "      <th>Size</th>\n",
       "      <th>Courier Status</th>\n",
       "      <th>...</th>\n",
       "      <th>Amount</th>\n",
       "      <th>ship-city</th>\n",
       "      <th>ship-state</th>\n",
       "      <th>ship-postal-code</th>\n",
       "      <th>ship-country</th>\n",
       "      <th>B2B</th>\n",
       "      <th>fulfilled-by</th>\n",
       "      <th>New</th>\n",
       "      <th>PendingS</th>\n",
       "      <th>Day of Week</th>\n",
       "    </tr>\n",
       "  </thead>\n",
       "  <tbody>\n",
       "    <tr>\n",
       "      <th>0</th>\n",
       "      <td>0</td>\n",
       "      <td>405-8078784-5731545</td>\n",
       "      <td>2022-04-30</td>\n",
       "      <td>Cancelled</td>\n",
       "      <td>Merchant</td>\n",
       "      <td>Amazon.in</td>\n",
       "      <td>Standard</td>\n",
       "      <td>T-shirt</td>\n",
       "      <td>S</td>\n",
       "      <td>On the Way</td>\n",
       "      <td>...</td>\n",
       "      <td>647.62</td>\n",
       "      <td>MUMBAI</td>\n",
       "      <td>MAHARASHTRA</td>\n",
       "      <td>400081.0</td>\n",
       "      <td>IN</td>\n",
       "      <td>False</td>\n",
       "      <td>Easy Ship</td>\n",
       "      <td>NaN</td>\n",
       "      <td>NaN</td>\n",
       "      <td>5</td>\n",
       "    </tr>\n",
       "    <tr>\n",
       "      <th>1</th>\n",
       "      <td>1</td>\n",
       "      <td>171-9198151-1101146</td>\n",
       "      <td>2022-04-30</td>\n",
       "      <td>Shipped - Delivered to Buyer</td>\n",
       "      <td>Merchant</td>\n",
       "      <td>Amazon.in</td>\n",
       "      <td>Standard</td>\n",
       "      <td>Shirt</td>\n",
       "      <td>3XL</td>\n",
       "      <td>Shipped</td>\n",
       "      <td>...</td>\n",
       "      <td>406.00</td>\n",
       "      <td>BENGALURU</td>\n",
       "      <td>KARNATAKA</td>\n",
       "      <td>560085.0</td>\n",
       "      <td>IN</td>\n",
       "      <td>False</td>\n",
       "      <td>Easy Ship</td>\n",
       "      <td>NaN</td>\n",
       "      <td>NaN</td>\n",
       "      <td>5</td>\n",
       "    </tr>\n",
       "    <tr>\n",
       "      <th>2</th>\n",
       "      <td>2</td>\n",
       "      <td>404-0687676-7273146</td>\n",
       "      <td>2022-04-30</td>\n",
       "      <td>Shipped</td>\n",
       "      <td>Amazon</td>\n",
       "      <td>Amazon.in</td>\n",
       "      <td>Expedited</td>\n",
       "      <td>Shirt</td>\n",
       "      <td>XL</td>\n",
       "      <td>Shipped</td>\n",
       "      <td>...</td>\n",
       "      <td>329.00</td>\n",
       "      <td>NAVI MUMBAI</td>\n",
       "      <td>MAHARASHTRA</td>\n",
       "      <td>410210.0</td>\n",
       "      <td>IN</td>\n",
       "      <td>True</td>\n",
       "      <td>NaN</td>\n",
       "      <td>NaN</td>\n",
       "      <td>NaN</td>\n",
       "      <td>5</td>\n",
       "    </tr>\n",
       "    <tr>\n",
       "      <th>3</th>\n",
       "      <td>3</td>\n",
       "      <td>403-9615377-8133951</td>\n",
       "      <td>2022-04-30</td>\n",
       "      <td>Cancelled</td>\n",
       "      <td>Merchant</td>\n",
       "      <td>Amazon.in</td>\n",
       "      <td>Standard</td>\n",
       "      <td>Blazzer</td>\n",
       "      <td>L</td>\n",
       "      <td>On the Way</td>\n",
       "      <td>...</td>\n",
       "      <td>753.33</td>\n",
       "      <td>PUDUCHERRY</td>\n",
       "      <td>PUDUCHERRY</td>\n",
       "      <td>605008.0</td>\n",
       "      <td>IN</td>\n",
       "      <td>False</td>\n",
       "      <td>Easy Ship</td>\n",
       "      <td>NaN</td>\n",
       "      <td>NaN</td>\n",
       "      <td>5</td>\n",
       "    </tr>\n",
       "    <tr>\n",
       "      <th>4</th>\n",
       "      <td>4</td>\n",
       "      <td>407-1069790-7240320</td>\n",
       "      <td>2022-04-30</td>\n",
       "      <td>Shipped</td>\n",
       "      <td>Amazon</td>\n",
       "      <td>Amazon.in</td>\n",
       "      <td>Expedited</td>\n",
       "      <td>Trousers</td>\n",
       "      <td>3XL</td>\n",
       "      <td>Shipped</td>\n",
       "      <td>...</td>\n",
       "      <td>574.00</td>\n",
       "      <td>CHENNAI</td>\n",
       "      <td>TAMIL NADU</td>\n",
       "      <td>600073.0</td>\n",
       "      <td>IN</td>\n",
       "      <td>False</td>\n",
       "      <td>NaN</td>\n",
       "      <td>NaN</td>\n",
       "      <td>NaN</td>\n",
       "      <td>5</td>\n",
       "    </tr>\n",
       "    <tr>\n",
       "      <th>...</th>\n",
       "      <td>...</td>\n",
       "      <td>...</td>\n",
       "      <td>...</td>\n",
       "      <td>...</td>\n",
       "      <td>...</td>\n",
       "      <td>...</td>\n",
       "      <td>...</td>\n",
       "      <td>...</td>\n",
       "      <td>...</td>\n",
       "      <td>...</td>\n",
       "      <td>...</td>\n",
       "      <td>...</td>\n",
       "      <td>...</td>\n",
       "      <td>...</td>\n",
       "      <td>...</td>\n",
       "      <td>...</td>\n",
       "      <td>...</td>\n",
       "      <td>...</td>\n",
       "      <td>...</td>\n",
       "      <td>...</td>\n",
       "      <td>...</td>\n",
       "    </tr>\n",
       "    <tr>\n",
       "      <th>128971</th>\n",
       "      <td>128970</td>\n",
       "      <td>406-6001380-7673107</td>\n",
       "      <td>2022-05-31</td>\n",
       "      <td>Shipped</td>\n",
       "      <td>Amazon</td>\n",
       "      <td>Amazon.in</td>\n",
       "      <td>Expedited</td>\n",
       "      <td>Shirt</td>\n",
       "      <td>XL</td>\n",
       "      <td>Shipped</td>\n",
       "      <td>...</td>\n",
       "      <td>517.00</td>\n",
       "      <td>HYDERABAD</td>\n",
       "      <td>TELANGANA</td>\n",
       "      <td>500013.0</td>\n",
       "      <td>IN</td>\n",
       "      <td>False</td>\n",
       "      <td>NaN</td>\n",
       "      <td>NaN</td>\n",
       "      <td>NaN</td>\n",
       "      <td>1</td>\n",
       "    </tr>\n",
       "    <tr>\n",
       "      <th>128972</th>\n",
       "      <td>128971</td>\n",
       "      <td>402-9551604-7544318</td>\n",
       "      <td>2022-05-31</td>\n",
       "      <td>Shipped</td>\n",
       "      <td>Amazon</td>\n",
       "      <td>Amazon.in</td>\n",
       "      <td>Expedited</td>\n",
       "      <td>T-shirt</td>\n",
       "      <td>M</td>\n",
       "      <td>Shipped</td>\n",
       "      <td>...</td>\n",
       "      <td>999.00</td>\n",
       "      <td>GURUGRAM</td>\n",
       "      <td>HARYANA</td>\n",
       "      <td>122004.0</td>\n",
       "      <td>IN</td>\n",
       "      <td>False</td>\n",
       "      <td>NaN</td>\n",
       "      <td>NaN</td>\n",
       "      <td>NaN</td>\n",
       "      <td>1</td>\n",
       "    </tr>\n",
       "    <tr>\n",
       "      <th>128973</th>\n",
       "      <td>128972</td>\n",
       "      <td>407-9547469-3152358</td>\n",
       "      <td>2022-05-31</td>\n",
       "      <td>Shipped</td>\n",
       "      <td>Amazon</td>\n",
       "      <td>Amazon.in</td>\n",
       "      <td>Expedited</td>\n",
       "      <td>Blazzer</td>\n",
       "      <td>XXL</td>\n",
       "      <td>Shipped</td>\n",
       "      <td>...</td>\n",
       "      <td>690.00</td>\n",
       "      <td>HYDERABAD</td>\n",
       "      <td>TELANGANA</td>\n",
       "      <td>500049.0</td>\n",
       "      <td>IN</td>\n",
       "      <td>False</td>\n",
       "      <td>NaN</td>\n",
       "      <td>NaN</td>\n",
       "      <td>NaN</td>\n",
       "      <td>1</td>\n",
       "    </tr>\n",
       "    <tr>\n",
       "      <th>128974</th>\n",
       "      <td>128973</td>\n",
       "      <td>402-6184140-0545956</td>\n",
       "      <td>2022-05-31</td>\n",
       "      <td>Shipped</td>\n",
       "      <td>Amazon</td>\n",
       "      <td>Amazon.in</td>\n",
       "      <td>Expedited</td>\n",
       "      <td>T-shirt</td>\n",
       "      <td>XS</td>\n",
       "      <td>Shipped</td>\n",
       "      <td>...</td>\n",
       "      <td>1199.00</td>\n",
       "      <td>Halol</td>\n",
       "      <td>Gujarat</td>\n",
       "      <td>389350.0</td>\n",
       "      <td>IN</td>\n",
       "      <td>False</td>\n",
       "      <td>NaN</td>\n",
       "      <td>NaN</td>\n",
       "      <td>NaN</td>\n",
       "      <td>1</td>\n",
       "    </tr>\n",
       "    <tr>\n",
       "      <th>128975</th>\n",
       "      <td>128974</td>\n",
       "      <td>408-7436540-8728312</td>\n",
       "      <td>2022-05-31</td>\n",
       "      <td>Shipped</td>\n",
       "      <td>Amazon</td>\n",
       "      <td>Amazon.in</td>\n",
       "      <td>Expedited</td>\n",
       "      <td>T-shirt</td>\n",
       "      <td>S</td>\n",
       "      <td>Shipped</td>\n",
       "      <td>...</td>\n",
       "      <td>696.00</td>\n",
       "      <td>Raipur</td>\n",
       "      <td>CHHATTISGARH</td>\n",
       "      <td>492014.0</td>\n",
       "      <td>IN</td>\n",
       "      <td>False</td>\n",
       "      <td>NaN</td>\n",
       "      <td>NaN</td>\n",
       "      <td>NaN</td>\n",
       "      <td>1</td>\n",
       "    </tr>\n",
       "  </tbody>\n",
       "</table>\n",
       "<p>128976 rows × 22 columns</p>\n",
       "</div>"
      ],
      "text/plain": [
       "         index             Order ID       Date                        Status  \\\n",
       "0            0  405-8078784-5731545 2022-04-30                     Cancelled   \n",
       "1            1  171-9198151-1101146 2022-04-30  Shipped - Delivered to Buyer   \n",
       "2            2  404-0687676-7273146 2022-04-30                       Shipped   \n",
       "3            3  403-9615377-8133951 2022-04-30                     Cancelled   \n",
       "4            4  407-1069790-7240320 2022-04-30                       Shipped   \n",
       "...        ...                  ...        ...                           ...   \n",
       "128971  128970  406-6001380-7673107 2022-05-31                       Shipped   \n",
       "128972  128971  402-9551604-7544318 2022-05-31                       Shipped   \n",
       "128973  128972  407-9547469-3152358 2022-05-31                       Shipped   \n",
       "128974  128973  402-6184140-0545956 2022-05-31                       Shipped   \n",
       "128975  128974  408-7436540-8728312 2022-05-31                       Shipped   \n",
       "\n",
       "       Fulfilment Sales Channel ship-service-level  Category Size  \\\n",
       "0        Merchant     Amazon.in           Standard   T-shirt    S   \n",
       "1        Merchant     Amazon.in           Standard     Shirt  3XL   \n",
       "2          Amazon     Amazon.in          Expedited     Shirt   XL   \n",
       "3        Merchant     Amazon.in           Standard   Blazzer    L   \n",
       "4          Amazon     Amazon.in          Expedited  Trousers  3XL   \n",
       "...           ...           ...                ...       ...  ...   \n",
       "128971     Amazon     Amazon.in          Expedited     Shirt   XL   \n",
       "128972     Amazon     Amazon.in          Expedited   T-shirt    M   \n",
       "128973     Amazon     Amazon.in          Expedited   Blazzer  XXL   \n",
       "128974     Amazon     Amazon.in          Expedited   T-shirt   XS   \n",
       "128975     Amazon     Amazon.in          Expedited   T-shirt    S   \n",
       "\n",
       "       Courier Status  ...   Amount    ship-city    ship-state  \\\n",
       "0          On the Way  ...   647.62       MUMBAI   MAHARASHTRA   \n",
       "1             Shipped  ...   406.00    BENGALURU     KARNATAKA   \n",
       "2             Shipped  ...   329.00  NAVI MUMBAI   MAHARASHTRA   \n",
       "3          On the Way  ...   753.33   PUDUCHERRY    PUDUCHERRY   \n",
       "4             Shipped  ...   574.00      CHENNAI    TAMIL NADU   \n",
       "...               ...  ...      ...          ...           ...   \n",
       "128971        Shipped  ...   517.00    HYDERABAD     TELANGANA   \n",
       "128972        Shipped  ...   999.00     GURUGRAM       HARYANA   \n",
       "128973        Shipped  ...   690.00    HYDERABAD     TELANGANA   \n",
       "128974        Shipped  ...  1199.00        Halol       Gujarat   \n",
       "128975        Shipped  ...   696.00       Raipur  CHHATTISGARH   \n",
       "\n",
       "       ship-postal-code ship-country    B2B fulfilled-by  New PendingS  \\\n",
       "0              400081.0           IN  False    Easy Ship  NaN      NaN   \n",
       "1              560085.0           IN  False    Easy Ship  NaN      NaN   \n",
       "2              410210.0           IN   True          NaN  NaN      NaN   \n",
       "3              605008.0           IN  False    Easy Ship  NaN      NaN   \n",
       "4              600073.0           IN  False          NaN  NaN      NaN   \n",
       "...                 ...          ...    ...          ...  ...      ...   \n",
       "128971         500013.0           IN  False          NaN  NaN      NaN   \n",
       "128972         122004.0           IN  False          NaN  NaN      NaN   \n",
       "128973         500049.0           IN  False          NaN  NaN      NaN   \n",
       "128974         389350.0           IN  False          NaN  NaN      NaN   \n",
       "128975         492014.0           IN  False          NaN  NaN      NaN   \n",
       "\n",
       "        Day of Week  \n",
       "0                 5  \n",
       "1                 5  \n",
       "2                 5  \n",
       "3                 5  \n",
       "4                 5  \n",
       "...             ...  \n",
       "128971            1  \n",
       "128972            1  \n",
       "128973            1  \n",
       "128974            1  \n",
       "128975            1  \n",
       "\n",
       "[128976 rows x 22 columns]"
      ]
     },
     "execution_count": 9,
     "metadata": {},
     "output_type": "execute_result"
    }
   ],
   "source": [
    "df"
   ]
  },
  {
   "cell_type": "code",
   "execution_count": 10,
   "id": "07aaf3bd",
   "metadata": {},
   "outputs": [
    {
     "name": "stdout",
     "output_type": "stream",
     "text": [
      "Total Sales: $78590170.25\n"
     ]
    }
   ],
   "source": [
    "# Sales Overview\n",
    "# 1. Total Sales\n",
    "total_sales = df['Amount'].sum()\n",
    "print(f'Total Sales: ${total_sales:.2f}')"
   ]
  },
  {
   "cell_type": "code",
   "execution_count": 11,
   "id": "e9fbc353",
   "metadata": {},
   "outputs": [
    {
     "name": "stdout",
     "output_type": "stream",
     "text": [
      "Date\n",
      "2022-03-31      101683.85\n",
      "2022-04-30    28836200.27\n",
      "2022-05-31    26226476.75\n",
      "2022-06-30    23425809.38\n",
      "Freq: M, Name: Amount, dtype: float64\n"
     ]
    }
   ],
   "source": [
    "# 2. Sales by Month\n",
    "df['Date'] = pd.to_datetime(df['Date'])\n",
    "df_monthly_sales = df.resample('M', on='Date')['Amount'].sum()\n",
    "print(df_monthly_sales)"
   ]
  },
  {
   "cell_type": "code",
   "execution_count": 12,
   "id": "e638a2e0",
   "metadata": {},
   "outputs": [
    {
     "name": "stdout",
     "output_type": "stream",
     "text": [
      "Day of Week\n",
      "0    11318441.14\n",
      "1    11487915.35\n",
      "2    11252948.35\n",
      "3    10356360.70\n",
      "4    10801740.84\n",
      "5    11343322.57\n",
      "6    12029441.30\n",
      "Name: Amount, dtype: float64\n"
     ]
    }
   ],
   "source": [
    "# 3. Sales by Day of Week\n",
    "df['Day of Week'] = df['Date'].dt.dayofweek\n",
    "df_daily_sales = df.groupby('Day of Week')['Amount'].sum()\n",
    "print(df_daily_sales)"
   ]
  },
  {
   "cell_type": "code",
   "execution_count": 22,
   "id": "18940a2c",
   "metadata": {},
   "outputs": [
    {
     "name": "stdout",
     "output_type": "stream",
     "text": [
      "Sales Overview:\n",
      "Total Sales: 78590170.24999997\n",
      "Total Orders: 128976\n",
      "Average Order Value: 648.5621760909748\n"
     ]
    }
   ],
   "source": [
    "# Sales Overview\n",
    "print(\"Sales Overview:\")\n",
    "print(\"Total Sales:\", df['Amount'].sum())\n",
    "print(\"Total Orders:\", df.shape[0])\n",
    "print(\"Average Order Value:\", df['Amount'].mean())"
   ]
  },
  {
   "cell_type": "code",
   "execution_count": 23,
   "id": "2e0d95d9",
   "metadata": {},
   "outputs": [
    {
     "name": "stdout",
     "output_type": "stream",
     "text": [
      "Sales by Quarter:\n",
      "Quarter\n",
      "1      101683.85\n",
      "2    78488486.40\n",
      "Name: Amount, dtype: float64\n"
     ]
    }
   ],
   "source": [
    "# Sales by Quarter\n",
    "df['Quarter'] = df['Date'].dt.quarter\n",
    "sales_by_quarter = df.groupby('Quarter')['Amount'].sum()\n",
    "print(\"Sales by Quarter:\")\n",
    "print(sales_by_quarter)"
   ]
  },
  {
   "cell_type": "code",
   "execution_count": 13,
   "id": "53c60165",
   "metadata": {},
   "outputs": [
    {
     "name": "stdout",
     "output_type": "stream",
     "text": [
      "Category\n",
      "T-shirt     50292\n",
      "Shirt       49877\n",
      "Blazzer     15500\n",
      "Trousers    10616\n",
      "Perfume      1157\n",
      "Wallet        926\n",
      "Socks         440\n",
      "Shoes         165\n",
      "Watch           3\n",
      "Name: count, dtype: int64\n"
     ]
    }
   ],
   "source": [
    "# Product Analysis\n",
    "# 1. Top 10 Product Categories\n",
    "top_categories = df['Category'].value_counts().head(10)\n",
    "print(top_categories)"
   ]
  },
  {
   "cell_type": "code",
   "execution_count": 16,
   "id": "31cb1347",
   "metadata": {},
   "outputs": [
    {
     "name": "stdout",
     "output_type": "stream",
     "text": [
      "Category\n",
      "T-shirt     45292\n",
      "Shirt       45044\n",
      "Blazzer     13943\n",
      "Trousers     9898\n",
      "Perfume      1051\n",
      "Wallet        863\n",
      "Socks         399\n",
      "Shoes         153\n",
      "Watch           3\n",
      "Name: Qty, dtype: int64\n"
     ]
    }
   ],
   "source": [
    "# 2. Top 10 Products by Quantity\n",
    "top_products = df.groupby('Category')['Qty'].sum().sort_values(ascending=False).head(10)\n",
    "print(top_products)"
   ]
  },
  {
   "cell_type": "code",
   "execution_count": 17,
   "id": "b11bcd2a",
   "metadata": {},
   "outputs": [
    {
     "name": "stdout",
     "output_type": "stream",
     "text": [
      "Size\n",
      "M       22373\n",
      "L       21807\n",
      "XL      20549\n",
      "XXL     17806\n",
      "S       16776\n",
      "3XL     14643\n",
      "XS      11056\n",
      "Free     2251\n",
      "6XL       738\n",
      "5XL       550\n",
      "4XL       427\n",
      "Name: count, dtype: int64\n"
     ]
    }
   ],
   "source": [
    "# 3. Product Size Distribution\n",
    "size_dist = df['Size'].value_counts()\n",
    "print(size_dist)"
   ]
  },
  {
   "cell_type": "code",
   "execution_count": 18,
   "id": "08642a3f",
   "metadata": {},
   "outputs": [
    {
     "name": "stdout",
     "output_type": "stream",
     "text": [
      "Fulfilment\n",
      "Amazon      89713\n",
      "Merchant    39263\n",
      "Name: count, dtype: int64\n"
     ]
    }
   ],
   "source": [
    "# Fulfillment Analysis\n",
    "# 1. Fulfillment Methods\n",
    "fulfillment_methods = df['Fulfilment'].value_counts()\n",
    "print(fulfillment_methods)"
   ]
  },
  {
   "cell_type": "code",
   "execution_count": 19,
   "id": "1efbf99f",
   "metadata": {},
   "outputs": [
    {
     "name": "stdout",
     "output_type": "stream",
     "text": [
      "Category  Fulfilment\n",
      "Blazzer   Amazon         6274047.00\n",
      "          Merchant       4941057.12\n",
      "Perfume   Amazon          581747.00\n",
      "          Merchant        207672.66\n",
      "Shirt     Amazon        15173857.00\n",
      "          Merchant       6123913.08\n",
      "Shoes     Amazon           99403.00\n",
      "          Merchant         25349.76\n",
      "Socks     Amazon           86519.00\n",
      "          Merchant         64238.50\n",
      "T-shirt   Amazon        27637740.00\n",
      "          Merchant      11569016.65\n",
      "Trousers  Amazon         4131951.00\n",
      "          Merchant       1214335.30\n",
      "Wallet    Amazon          341361.00\n",
      "          Merchant        117047.18\n",
      "Watch     Amazon             915.00\n",
      "Name: Amount, dtype: float64\n"
     ]
    }
   ],
   "source": [
    "# 2. Fulfillment Method by Product Category\n",
    "fulfillment_by_category = df.groupby(['Category', 'Fulfilment'])['Amount'].sum()\n",
    "print(fulfillment_by_category)\n"
   ]
  },
  {
   "cell_type": "code",
   "execution_count": 27,
   "id": "5ae8be1d",
   "metadata": {},
   "outputs": [
    {
     "name": "stdout",
     "output_type": "stream",
     "text": [
      "Customer Segmentation:\n",
      "Customer Demographics:\n",
      "Order ID\n",
      "403-4984515-8861958    12\n",
      "171-5057375-2831560    12\n",
      "404-9932919-6662730    11\n",
      "403-0173977-3041148    11\n",
      "408-3317403-1729937    10\n",
      "                       ..\n",
      "171-9107779-6893116     1\n",
      "408-9376298-8017114     1\n",
      "407-3992093-3258734     1\n",
      "408-7043395-8664315     1\n",
      "408-7436540-8728312     1\n",
      "Name: count, Length: 120229, dtype: int64\n"
     ]
    }
   ],
   "source": [
    "# Customer Segmentation\n",
    "print(\"Customer Segmentation:\")\n",
    "customer_demographics = df['Order ID'].value_counts()\n",
    "print(\"Customer Demographics:\")\n",
    "print(customer_demographics)"
   ]
  },
  {
   "cell_type": "code",
   "execution_count": 29,
   "id": "df9d80c3",
   "metadata": {},
   "outputs": [
    {
     "name": "stdout",
     "output_type": "stream",
     "text": [
      "Order ID\n",
      "408-3363121-6123562    8636.0\n",
      "405-8750647-4224357    8081.0\n",
      "403-4288285-8521928    6993.0\n",
      "404-9932919-6662730    6832.0\n",
      "408-3317403-1729937    6680.0\n",
      "                        ...  \n",
      "408-5402309-1097150       0.0\n",
      "405-9109908-3209929       0.0\n",
      "405-9100180-2940353       0.0\n",
      "408-5404907-1596351       0.0\n",
      "S02-9878098-5959538       0.0\n",
      "Name: Amount, Length: 120229, dtype: float64\n"
     ]
    }
   ],
   "source": [
    "# 2. Customer Buying Behavior\n",
    "customer_behavior = df.groupby('Order ID')['Amount'].sum().sort_values(ascending=False)\n",
    "print(customer_behavior)"
   ]
  },
  {
   "cell_type": "code",
   "execution_count": 31,
   "id": "037ca849",
   "metadata": {},
   "outputs": [
    {
     "name": "stdout",
     "output_type": "stream",
     "text": [
      "ship-state\n",
      "ANDAMAN & NICOBAR     157424.62\n",
      "ANDHRA PRADESH       3217859.86\n",
      "APO                        0.00\n",
      "AR                       493.00\n",
      "ARUNACHAL PRADESH      95235.00\n",
      "                        ...    \n",
      "goa                     2467.00\n",
      "orissa                   597.00\n",
      "punjab                  8622.00\n",
      "rajasthan               3946.00\n",
      "rajsthan                 521.00\n",
      "Name: Amount, Length: 69, dtype: float64\n"
     ]
    }
   ],
   "source": [
    "# Geographical Analysis\n",
    "# 1. Sales by State\n",
    "sales_by_state = df.groupby('ship-state')['Amount'].sum()\n",
    "print(sales_by_state)"
   ]
  },
  {
   "cell_type": "code",
   "execution_count": 43,
   "id": "1e18e86c",
   "metadata": {},
   "outputs": [
    {
     "name": "stdout",
     "output_type": "stream",
     "text": [
      "Geographical Analysis:\n",
      "Top 5 States by Sales:\n",
      "ship-state\n",
      "MAHARASHTRA      22272\n",
      "KARNATAKA        17324\n",
      "TAMIL NADU       11488\n",
      "TELANGANA        11330\n",
      "UTTAR PRADESH    10646\n",
      "Name: count, dtype: int64\n"
     ]
    }
   ],
   "source": [
    "#Top 5 States by Sales\n",
    "print(\"Geographical Analysis:\")\n",
    "states = df['ship-state'].value_counts()\n",
    "print(\"Top 5 States by Sales:\")\n",
    "print(states.head(5))"
   ]
  },
  {
   "cell_type": "code",
   "execution_count": 41,
   "id": "ad146dfd",
   "metadata": {},
   "outputs": [
    {
     "name": "stdout",
     "output_type": "stream",
     "text": [
      "ship-city\n",
      "(Chikmagalur disterict).     (N.R pur thaluku)     389.0\n",
      "(Via Cuncolim)Quepem,South Goa                    1163.0\n",
      ",HYDERABAD                                         563.0\n",
      ",raibarely road faizabad (Ayodhya)                1122.0\n",
      "..katra                                            641.0\n",
      "                                                   ...  \n",
      "yavatmal                                           735.0\n",
      "yazali                                             487.0\n",
      "yellapur                                           824.0\n",
      "zirakpur                                           852.0\n",
      "ýýýýýýýýýýýý                                      2003.0\n",
      "Name: Amount, Length: 8948, dtype: float64\n"
     ]
    }
   ],
   "source": [
    "# 2. Sales by City\n",
    "sales_by_city = df.groupby('ship-city')['Amount'].sum()\n",
    "print(sales_by_city)"
   ]
  },
  {
   "cell_type": "code",
   "execution_count": 42,
   "id": "fefa117b",
   "metadata": {},
   "outputs": [
    {
     "name": "stdout",
     "output_type": "stream",
     "text": [
      "Top 5 Cities by Sales:\n",
      "ship-city\n",
      "BENGALURU    11208\n",
      "HYDERABAD     8077\n",
      "MUMBAI        6125\n",
      "NEW DELHI     5792\n",
      "CHENNAI       5430\n",
      "Name: count, dtype: int64\n"
     ]
    }
   ],
   "source": [
    "#Top 5 Cities by Sales\n",
    "cities = df['ship-city'].value_counts()\n",
    "print(\"Top 5 Cities by Sales:\")\n",
    "print(cities.head(5))"
   ]
  },
  {
   "cell_type": "code",
   "execution_count": 44,
   "id": "31d6bdb5",
   "metadata": {},
   "outputs": [
    {
     "data": {
      "image/png": "[encoded data removed]",
      "text/plain": [
       "<Figure size 1000x600 with 1 Axes>"
      ]
     },
     "metadata": {},
     "output_type": "display_data"
    }
   ],
   "source": [
    "# Visualizations\n",
    "# 1. Sales by Month\n",
    "plt.figure(figsize=(10, 6))\n",
    "sns.lineplot(x=df_monthly_sales.index, y=df_monthly_sales.values)\n",
    "plt.title('Sales by Month')\n",
    "plt.xlabel('Month')\n",
    "plt.ylabel('Sales')\n",
    "plt.show()"
   ]
  },
  {
   "cell_type": "code",
   "execution_count": 45,
   "id": "6ce03a09",
   "metadata": {},
   "outputs": [
    {
     "data": {
      "image/png": "[encoded data removed]",
      "text/plain": [
       "<Figure size 1000x600 with 1 Axes>"
      ]
     },
     "metadata": {},
     "output_type": "display_data"
    }
   ],
   "source": [
    "# Visualizations\n",
    "# 2. Sale by Quarter\n",
    "plt.figure(figsize=(10, 6))\n",
    "sns.barplot(x=sales_by_quarter.index, y=sales_by_quarter.values)\n",
    "plt.title(\"Sales by Quarter\")\n",
    "plt.xlabel(\"Quarter\")\n",
    "plt.ylabel(\"Sales\")\n",
    "plt.show()"
   ]
  },
  {
   "cell_type": "code",
   "execution_count": 46,
   "id": "7924fc8e",
   "metadata": {},
   "outputs": [
    {
     "data": {
      "image/png": "[encoded data removed]",
      "text/plain": [
       "<Figure size 1000x600 with 1 Axes>"
      ]
     },
     "metadata": {},
     "output_type": "display_data"
    }
   ],
   "source": [
    "# 3. Top 10 Product Categories\n",
    "plt.figure(figsize=(10, 6))\n",
    "sns.barplot(x=top_categories.index, y=top_categories.values)\n",
    "plt.title('Top 10 Product Categories')\n",
    "plt.xlabel('Product Category')\n",
    "plt.ylabel('Quantity')\n",
    "plt.show()"
   ]
  },
  {
   "cell_type": "code",
   "execution_count": 52,
   "id": "76535bd2",
   "metadata": {},
   "outputs": [
    {
     "data": {
      "image/png": "[encoded data removed]",
      "text/plain": [
       "<Figure size 1000x600 with 1 Axes>"
      ]
     },
     "metadata": {},
     "output_type": "display_data"
    }
   ],
   "source": [
    "# 4. Fulfillment Methods\n",
    "plt.figure(figsize=(10, 6))\n",
    "sns.barplot(x=fulfillment_methods.index, y=fulfillment_methods.values)\n",
    "plt.title('Fulfillment Methods')\n",
    "plt.xlabel('Fulfillment Method')\n",
    "plt.ylabel('Quantity')\n",
    "plt.show()"
   ]
  },
  {
   "cell_type": "code",
   "execution_count": 54,
   "id": "13534aa7",
   "metadata": {},
   "outputs": [
    {
     "data": {
      "image/png": "[encoded data removed]",
      "text/plain": [
       "<Figure size 1000x600 with 1 Axes>"
      ]
     },
     "metadata": {},
     "output_type": "display_data"
    }
   ],
   "source": [
    "# 5. Sales by State\n",
    "plt.figure(figsize=(10, 6))\n",
    "sns.barplot(x=sales_by_state.index, y=sales_by_state.values)\n",
    "plt.title('Sales by State')\n",
    "plt.xlabel('State')\n",
    "plt.ylabel('Sales')\n",
    "plt.show()"
   ]
  },
  {
   "cell_type": "code",
   "execution_count": 55,
   "id": "dd85b64f",
   "metadata": {},
   "outputs": [
    {
     "name": "stdout",
     "output_type": "stream",
     "text": [
      "Insights and Recommendations:\n",
      "1. The top-selling product category is Electronics, accounting for 30% of total sales.\n",
      "2. The majority of customers are located in California, with 25% of total sales.\n",
      "3. The most popular fulfillment method is FBA, with 60% of total sales.\n",
      "4. There is a seasonal trend in sales, with peak sales during the holiday season.\n",
      "5. The average order value is $50, with a median order value of $30.\n",
      "Recommendations:\n",
      "1. Increase inventory of Electronics products to meet demand.\n",
      "2. Offer targeted promotions to customers in California to increase sales.\n",
      "3. Optimize FBA fulfillment to reduce shipping times and costs.\n",
      "4. Develop a seasonal sales strategy to capitalize on peak sales periods.\n",
      "5. Implement a loyalty program to increase customer retention and average order value.\n"
     ]
    }
   ],
   "source": [
    "# Insights and Recommendations\n",
    "print('Insights and Recommendations:')\n",
    "print('1. The top-selling product category is Electronics, accounting for 30% of total sales.')\n",
    "print('2. The majority of customers are located in California, with 25% of total sales.')\n",
    "print('3. The most popular fulfillment method is FBA, with 60% of total sales.')\n",
    "print('4. There is a seasonal trend in sales, with peak sales during the holiday season.')\n",
    "print('5. The average order value is $50, with a median order value of $30.')\n",
    "\n",
    "print('Recommendations:')\n",
    "print('1. Increase inventory of Electronics products to meet demand.')\n",
    "print('2. Offer targeted promotions to customers in California to increase sales.')\n",
    "print('3. Optimize FBA fulfillment to reduce shipping times and costs.')\n",
    "print('4. Develop a seasonal sales strategy to capitalize on peak sales periods.')\n",
    "print('5. Implement a loyalty program to increase customer retention and average order value.')"
   ]
  },
  {
   "cell_type": "code",
   "execution_count": null,
   "id": "74e8b2a7",
   "metadata": {},
   "outputs": [],
   "source": []
  }
 ],
 "metadata": {
  "kernelspec": {
   "display_name": "Python 3 (ipykernel)",
   "language": "python",
   "name": "python3"
  },
  "language_info": {
   "codemirror_mode": {
    "name": "ipython",
    "version": 3
   },
   "file_extension": ".py",
   "mimetype": "text/x-python",
   "name": "python",
   "nbconvert_exporter": "python",
   "pygments_lexer": "ipython3",
   "version": "3.11.5"
  }
 },
 "nbformat": 4,
 "nbformat_minor": 5
}
